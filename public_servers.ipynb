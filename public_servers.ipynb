{
 "cells": [
  {
   "cell_type": "markdown",
   "metadata": {},
   "source": [
    "Install requirements.txt + google chrome"
   ]
  },
  {
   "cell_type": "markdown",
   "metadata": {},
   "source": [
    "Imports"
   ]
  },
  {
   "cell_type": "code",
   "execution_count": null,
   "metadata": {
    "vscode": {
     "languageId": "plaintext"
    }
   },
   "outputs": [],
   "source": [
    "from CloudflareBypasser import CloudflareBypasser\n",
    "import time\n",
    "from DrissionPage import SessionPage\n",
    "from DrissionPage import ChromiumPage\n",
    "from random import randint\n",
    "import json"
   ]
  },
  {
   "cell_type": "markdown",
   "metadata": {},
   "source": [
    "Retrieve server invites"
   ]
  },
  {
   "cell_type": "code",
   "execution_count": null,
   "metadata": {
    "vscode": {
     "languageId": "plaintext"
    }
   },
   "outputs": [],
   "source": [
    "number-of-scrolls = 20\n",
    "\n",
    "def save_page_html(driver, filename): # Save the page HTML to a file\n",
    "    html_content = driver.html\n",
    "    with open(filename, 'w', encoding='utf-8') as f:\n",
    "        f.write(html_content) \n",
    "\n",
    "def detect_duplicates(invite): # Check whether the invite is already in the file\n",
    "    with open('server_invites.txt') as f:\n",
    "        existing_invites = f.readlines()\n",
    "        existing_invites = [invite.strip() for invite in existing_invites]\n",
    "\n",
    "    if invite in existing_invites:\n",
    "        return\n",
    "    else:\n",
    "        with open('server_invites.txt', 'a') as f:\n",
    "            f.write(invite + '\\n')\n",
    "        return\n",
    "\n",
    "driver = ChromiumPage()\n",
    "# driver = webdriver.Chrome() - doesn't work with Cloudflare\n",
    "with open('topics.txt') as f: # You can enter your topics of interest in the topics.txt file\n",
    "    topics = f.readlines()\n",
    "    topics = [topic.strip() for topic in topics]\n",
    "\n",
    "for topic in topics: # Loop through the topics\n",
    "    driver.get(f'https://disboard.org/servers/tag/{topic}?sort=-member_count')\n",
    "\n",
    "    cf_bypasser = CloudflareBypasser(driver) # Bypass Cloudflare protection\n",
    "    cf_bypasser.bypass()\n",
    "\n",
    "    time.sleep(2)  # Adjust the sleep time if necessary\n",
    "\n",
    "    try:\n",
    "        # Look for a button with text containing \"Accept\" or \"Agree\"\n",
    "        accept_button = driver.ele('tag:button@text:Accept all & visit the site') # Turns out you dont need to get rid of the dialogue\n",
    "        if not accept_button:\n",
    "            accept_button = driver.ele('tag:button@text:Agree')\n",
    "        \n",
    "        if accept_button:\n",
    "            accept_button.click()\n",
    "            time.sleep(1)  # Wait for the dialogue to disappear\n",
    "        else:\n",
    "            print(\"Could not find cookie accept button\")\n",
    "    except Exception as e:\n",
    "        print(f\"An error occurred while handling cookie dialogue: {e}\")\n",
    "\n",
    "    # Save the page HTML to a file\n",
    "    # save_page_html(driver, 'disboard.html')\n",
    "\n",
    "    for i in range(number-of-scrolls):  # Adjust the number of scrolls as needed\n",
    "        driver.scroll.down(randint(1246, 2539))  # Scroll down by a random amount not to get detected\n",
    "        time.sleep(3)  # Wait for content to load (It's a single countinuous page)\n",
    "\n",
    "    js_script = '''\n",
    "        var links = document.querySelectorAll('a[href*=\"/server/join/\"]');\n",
    "        var invites = [];\n",
    "        links.forEach(function(link) {\n",
    "            invites.push(link.href);\n",
    "        });\n",
    "        return invites;\n",
    "    '''\n",
    "\n",
    "    discord_invites = driver.run_js(js_script) # detect invite links\n",
    "\n",
    "    # Print the found Discord invite links\n",
    "    for invite in discord_invites:\n",
    "        detect_duplicates(invite)\n",
    "    print(\"number of invites: \", len(discord_invites))\n",
    "\n",
    "\n",
    "# driver.set.cookies({'name': 'cookie_name', 'value': 'cookie_value'})\n",
    "\n",
    "# accept_button = driver.find_element(By.XPATH, \"//button[text()='Accept all & visit the site']\")\n",
    "# accept_button.click()"
   ]
  },
  {
   "cell_type": "markdown",
   "metadata": {},
   "source": [
    "Get discord invites from disboard links"
   ]
  },
  {
   "cell_type": "code",
   "execution_count": null,
   "metadata": {
    "vscode": {
     "languageId": "plaintext"
    }
   },
   "outputs": [],
   "source": [
    "# Function to get the actual Discord invite from Disboard\n",
    "def get_discord_invite(disboard_url):\n",
    "    # Start Chrome using Selenium WebDriver\n",
    "    driver = ChromiumPage()\n",
    "    \n",
    "    try:\n",
    "        # Open the Disboard URL\n",
    "        driver.get(disboard_url)\n",
    "\n",
    "        # Wait for redirection to Discord (you can adjust the timeout)\n",
    "        time.sleep(5)\n",
    "\n",
    "        # After the redirect, get the current URL\n",
    "        current_url = driver.url\n",
    "\n",
    "        # Check if it is a valid Discord invite URL\n",
    "        if \"discord.com/invite\" in current_url:\n",
    "            # Extract the invite code\n",
    "            invite_code = current_url.split('/')[-1]\n",
    "            return invite_code\n",
    "        else:\n",
    "            return None\n",
    "    except Exception as e:\n",
    "        print(f\"Error processing {disboard_url}: {e}\")\n",
    "        return None\n",
    "    finally:\n",
    "        pass\n",
    "        # Quit the browser (optional)\n",
    "        # driver.quit()\n",
    "\n",
    "# Read Disboard invites from the file\n",
    "with open(\"server_invites_gg.txt\", \"r\") as file:\n",
    "    disboard_links = file.readlines() # Load invites\n",
    "\n",
    "# Open a new file to save the actual Discord invites\n",
    "with open(\"invites_discord_format.txt\", \"w\") as output_file:\n",
    "    for disboard_url in disboard_links:\n",
    "        disboard_url = disboard_url.strip()  # Remove newline and spaces\n",
    "        if disboard_url:\n",
    "            # Get Discord invites from the Disboard URLs\n",
    "            invite_code = get_discord_invite(disboard_url)\n",
    "            if invite_code:\n",
    "                # Write the Discord invite code to the file\n",
    "                output_file.write(f\"https://discord.com/invite/{invite_code}\\n\")\n",
    "                print(f\"Processed: {disboard_url} -> https://discord.com/invite/{invite_code}\")\n",
    "            else:\n",
    "                print(f\"Failed to process: {disboard_url}\")\n"
   ]
  },
  {
   "cell_type": "markdown",
   "metadata": {},
   "source": [
    "Accepting the invites (not finished)"
   ]
  },
  {
   "cell_type": "code",
   "execution_count": null,
   "metadata": {
    "vscode": {
     "languageId": "plaintext"
    }
   },
   "outputs": [],
   "source": [
    "driver = ChromiumPage()\n",
    "\n",
    "with open('server_invites.txt') as f:\n",
    "    existing_invites = f.readlines()\n",
    "    existing_invites = [invite.strip() for invite in existing_invites]\n",
    "\n",
    "def log_in_to_discord():\n",
    "    driver.get('https://discord.com/login')\n",
    "    time.sleep(5)\n",
    "    try:\n",
    "        with open('login.json') as login_file:\n",
    "            login_data = json.load(login_file)\n",
    "            mail_address = login_data['email']\n",
    "            password = login_data['password']\n",
    "        login_button = driver.ele('tag:button@text:Log In')\n",
    "        email_input = driver.ele('tag:input@name:email')\n",
    "        email_input.input(f'{mail_address}')\n",
    "        password_input = driver.ele('tag:input@name:password')\n",
    "        password_input.input(f'{password}')\n",
    "        login_button.click()\n",
    "        \n",
    "        cookies = driver.get_cookies()  # Retrieve cookies from the current session\n",
    "        with open('cookies.json', 'w') as f:\n",
    "            json.dump(cookies, f)\n",
    "\n",
    "        driver.set_cookies(cookies)  # Apply the previously saved cookies\n",
    "\n",
    "        # Refresh the page to ensure cookies are applied correctly\n",
    "        driver.refresh()\n",
    "\n",
    "    except Exception as e:\n",
    "        print(f\"An error occurred while logging in: {e}\")\n",
    "\n",
    "def join_a_server(invite_link):\n",
    "    driver.get(invite_link)\n",
    "    time.sleep(5)\n",
    "    try:\n",
    "        join_button = driver.ele('tag:button@text:Join Server')\n",
    "        join_button.click()\n",
    "        time.sleep(5)\n",
    "    except Exception as e:\n",
    "        print(f\"An error occurred while joining the server: {e}\")\n",
    "\n",
    "log_in_to_discord()\n",
    "\n",
    "time.sleep(5)\n",
    "\n",
    "# for invite in existing_invites:\n",
    "join_a_server(existing_invites[1])\n"
   ]
  },
  {
   "cell_type": "markdown",
   "metadata": {},
   "source": [
    "Scraping messages"
   ]
  }
 ],
 "metadata": {
  "language_info": {
   "name": "python"
  }
 },
 "nbformat": 4,
 "nbformat_minor": 2
}
